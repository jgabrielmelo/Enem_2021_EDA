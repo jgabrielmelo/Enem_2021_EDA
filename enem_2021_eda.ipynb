{
 "cells": [
  {
   "cell_type": "markdown",
   "metadata": {},
   "source": [
    "---\n",
    "# Análise Exploratória de Dados do Dataset Microdados Enem 2021\n",
    "---"
   ]
  },
  {
   "cell_type": "markdown",
   "metadata": {},
   "source": [
    "### Objetivo do Estudo"
   ]
  },
  {
   "cell_type": "markdown",
   "metadata": {},
   "source": [
    "Estaremos trabalhando com informações de microdados do Enem realizado em 2021. Temos como objetivo avaliar dados demográficos, indicadores sociais e financeiros e descobrir se correlacionam com as pontuações obtidas pelos candidatos."
   ]
  },
  {
   "cell_type": "markdown",
   "metadata": {},
   "source": [
    "#### 1.0 - Importando bibliotecas importantes"
   ]
  },
  {
   "cell_type": "code",
   "execution_count": 1,
   "metadata": {},
   "outputs": [],
   "source": [
    "import numpy as np \n",
    "import pandas as pd \n",
    "import seaborn as sns\n",
    "import matplotlib.pyplot as plt\n",
    "import matplotlib.patches as mpatches\n",
    "import os\n",
    "\n",
    "%matplotlib inline\n",
    "\n",
    "import plotly.express as px\n",
    "from IPython.core.pylabtools import figsize\n",
    "from string import ascii_uppercase\n",
    "\n",
    "pd.set_option('display.max_rows', None)\n",
    "pd.set_option('display.max_columns', None)\n",
    "pd.set_option('display.float_format', lambda x: '%.2f' % x)"
   ]
  },
  {
   "cell_type": "markdown",
   "metadata": {},
   "source": [
    "#### 2.0 - Selecionando os dados"
   ]
  },
  {
   "cell_type": "code",
   "execution_count": 2,
   "metadata": {},
   "outputs": [
    {
     "data": {
      "text/html": [
       "<div>\n",
       "<style scoped>\n",
       "    .dataframe tbody tr th:only-of-type {\n",
       "        vertical-align: middle;\n",
       "    }\n",
       "\n",
       "    .dataframe tbody tr th {\n",
       "        vertical-align: top;\n",
       "    }\n",
       "\n",
       "    .dataframe thead th {\n",
       "        text-align: right;\n",
       "    }\n",
       "</style>\n",
       "<table border=\"1\" class=\"dataframe\">\n",
       "  <thead>\n",
       "    <tr style=\"text-align: right;\">\n",
       "      <th></th>\n",
       "      <th>NU_INSCRICAO</th>\n",
       "      <th>NU_ANO</th>\n",
       "      <th>TP_FAIXA_ETARIA</th>\n",
       "      <th>TP_SEXO</th>\n",
       "      <th>TP_ESTADO_CIVIL</th>\n",
       "      <th>TP_COR_RACA</th>\n",
       "      <th>TP_NACIONALIDADE</th>\n",
       "      <th>TP_ST_CONCLUSAO</th>\n",
       "      <th>TP_ANO_CONCLUIU</th>\n",
       "      <th>TP_ESCOLA</th>\n",
       "      <th>TP_ENSINO</th>\n",
       "      <th>IN_TREINEIRO</th>\n",
       "      <th>CO_MUNICIPIO_ESC</th>\n",
       "      <th>NO_MUNICIPIO_ESC</th>\n",
       "      <th>CO_UF_ESC</th>\n",
       "      <th>SG_UF_ESC</th>\n",
       "      <th>TP_DEPENDENCIA_ADM_ESC</th>\n",
       "      <th>TP_LOCALIZACAO_ESC</th>\n",
       "      <th>TP_SIT_FUNC_ESC</th>\n",
       "      <th>CO_MUNICIPIO_PROVA</th>\n",
       "      <th>NO_MUNICIPIO_PROVA</th>\n",
       "      <th>CO_UF_PROVA</th>\n",
       "      <th>SG_UF_PROVA</th>\n",
       "      <th>TP_PRESENCA_CN</th>\n",
       "      <th>TP_PRESENCA_CH</th>\n",
       "      <th>TP_PRESENCA_LC</th>\n",
       "      <th>TP_PRESENCA_MT</th>\n",
       "      <th>CO_PROVA_CN</th>\n",
       "      <th>CO_PROVA_CH</th>\n",
       "      <th>CO_PROVA_LC</th>\n",
       "      <th>CO_PROVA_MT</th>\n",
       "      <th>NU_NOTA_CN</th>\n",
       "      <th>NU_NOTA_CH</th>\n",
       "      <th>NU_NOTA_LC</th>\n",
       "      <th>NU_NOTA_MT</th>\n",
       "      <th>TX_RESPOSTAS_CN</th>\n",
       "      <th>TX_RESPOSTAS_CH</th>\n",
       "      <th>TX_RESPOSTAS_LC</th>\n",
       "      <th>TX_RESPOSTAS_MT</th>\n",
       "      <th>TP_LINGUA</th>\n",
       "      <th>TX_GABARITO_CN</th>\n",
       "      <th>TX_GABARITO_CH</th>\n",
       "      <th>TX_GABARITO_LC</th>\n",
       "      <th>TX_GABARITO_MT</th>\n",
       "      <th>TP_STATUS_REDACAO</th>\n",
       "      <th>NU_NOTA_COMP1</th>\n",
       "      <th>NU_NOTA_COMP2</th>\n",
       "      <th>NU_NOTA_COMP3</th>\n",
       "      <th>NU_NOTA_COMP4</th>\n",
       "      <th>NU_NOTA_COMP5</th>\n",
       "      <th>NU_NOTA_REDACAO</th>\n",
       "      <th>Q001</th>\n",
       "      <th>Q002</th>\n",
       "      <th>Q003</th>\n",
       "      <th>Q004</th>\n",
       "      <th>Q005</th>\n",
       "      <th>Q006</th>\n",
       "      <th>Q007</th>\n",
       "      <th>Q008</th>\n",
       "      <th>Q009</th>\n",
       "      <th>Q010</th>\n",
       "      <th>Q011</th>\n",
       "      <th>Q012</th>\n",
       "      <th>Q013</th>\n",
       "      <th>Q014</th>\n",
       "      <th>Q015</th>\n",
       "      <th>Q016</th>\n",
       "      <th>Q017</th>\n",
       "      <th>Q018</th>\n",
       "      <th>Q019</th>\n",
       "      <th>Q020</th>\n",
       "      <th>Q021</th>\n",
       "      <th>Q022</th>\n",
       "      <th>Q023</th>\n",
       "      <th>Q024</th>\n",
       "      <th>Q025</th>\n",
       "    </tr>\n",
       "  </thead>\n",
       "  <tbody>\n",
       "    <tr>\n",
       "      <th>0</th>\n",
       "      <td>210053865474</td>\n",
       "      <td>2021</td>\n",
       "      <td>5</td>\n",
       "      <td>F</td>\n",
       "      <td>1</td>\n",
       "      <td>1</td>\n",
       "      <td>1</td>\n",
       "      <td>1</td>\n",
       "      <td>3</td>\n",
       "      <td>1</td>\n",
       "      <td>NaN</td>\n",
       "      <td>0</td>\n",
       "      <td>NaN</td>\n",
       "      <td>NaN</td>\n",
       "      <td>NaN</td>\n",
       "      <td>NaN</td>\n",
       "      <td>NaN</td>\n",
       "      <td>NaN</td>\n",
       "      <td>NaN</td>\n",
       "      <td>3144805</td>\n",
       "      <td>Nova Lima</td>\n",
       "      <td>31</td>\n",
       "      <td>MG</td>\n",
       "      <td>0</td>\n",
       "      <td>1</td>\n",
       "      <td>1</td>\n",
       "      <td>0</td>\n",
       "      <td>NaN</td>\n",
       "      <td>881.00</td>\n",
       "      <td>892.00</td>\n",
       "      <td>NaN</td>\n",
       "      <td>NaN</td>\n",
       "      <td>574.60</td>\n",
       "      <td>472.60</td>\n",
       "      <td>NaN</td>\n",
       "      <td>NaN</td>\n",
       "      <td>BBCCECEABCEABADDAAEECBEBADADAAABABBABBACCCBBB</td>\n",
       "      <td>99999BADDEAEBACADADDAEABCEECDDBBAEADEDEABADBBA...</td>\n",
       "      <td>NaN</td>\n",
       "      <td>1</td>\n",
       "      <td>NaN</td>\n",
       "      <td>BEECCAEABADBCAEBAAEEDDEBBBADBCBAAEEBBBADCCBBA</td>\n",
       "      <td>ABBACAAECACDBDDADEBDDCBDCEDBEDDBBBBDCEEAADABAC...</td>\n",
       "      <td>NaN</td>\n",
       "      <td>1.00</td>\n",
       "      <td>140.00</td>\n",
       "      <td>120.00</td>\n",
       "      <td>120.00</td>\n",
       "      <td>180.00</td>\n",
       "      <td>200.00</td>\n",
       "      <td>760.00</td>\n",
       "      <td>F</td>\n",
       "      <td>F</td>\n",
       "      <td>B</td>\n",
       "      <td>B</td>\n",
       "      <td>3.00</td>\n",
       "      <td>D</td>\n",
       "      <td>A</td>\n",
       "      <td>B</td>\n",
       "      <td>C</td>\n",
       "      <td>B</td>\n",
       "      <td>A</td>\n",
       "      <td>B</td>\n",
       "      <td>A</td>\n",
       "      <td>B</td>\n",
       "      <td>A</td>\n",
       "      <td>A</td>\n",
       "      <td>A</td>\n",
       "      <td>A</td>\n",
       "      <td>B</td>\n",
       "      <td>A</td>\n",
       "      <td>A</td>\n",
       "      <td>B</td>\n",
       "      <td>A</td>\n",
       "      <td>B</td>\n",
       "      <td>B</td>\n",
       "    </tr>\n",
       "    <tr>\n",
       "      <th>1</th>\n",
       "      <td>210052384164</td>\n",
       "      <td>2021</td>\n",
       "      <td>12</td>\n",
       "      <td>M</td>\n",
       "      <td>1</td>\n",
       "      <td>1</td>\n",
       "      <td>1</td>\n",
       "      <td>1</td>\n",
       "      <td>11</td>\n",
       "      <td>1</td>\n",
       "      <td>NaN</td>\n",
       "      <td>0</td>\n",
       "      <td>NaN</td>\n",
       "      <td>NaN</td>\n",
       "      <td>NaN</td>\n",
       "      <td>NaN</td>\n",
       "      <td>NaN</td>\n",
       "      <td>NaN</td>\n",
       "      <td>NaN</td>\n",
       "      <td>2704302</td>\n",
       "      <td>Maceió</td>\n",
       "      <td>27</td>\n",
       "      <td>AL</td>\n",
       "      <td>1</td>\n",
       "      <td>1</td>\n",
       "      <td>1</td>\n",
       "      <td>1</td>\n",
       "      <td>912.00</td>\n",
       "      <td>882.00</td>\n",
       "      <td>891.00</td>\n",
       "      <td>901.00</td>\n",
       "      <td>505.90</td>\n",
       "      <td>551.80</td>\n",
       "      <td>498.30</td>\n",
       "      <td>461.50</td>\n",
       "      <td>DCBCCBDBCCCCCCDDCDCCCACCABCCECCCCAADCCCBBCADE</td>\n",
       "      <td>ECCDAAEBCDACBDBDECABBEAACBCBCCCDACEABEBEBACAE</td>\n",
       "      <td>99999ACECCEEBACDABACBECBBCDBDEBDDCCCDECCDDCCCC...</td>\n",
       "      <td>CDCCBCCCDCCCCBEACEECAEABECCCDCBBCABACDAEDCCEC</td>\n",
       "      <td>1</td>\n",
       "      <td>DABCEDEBEEBBCABEDDCBCBECDADCDAACBDCCCDBBBEBAB</td>\n",
       "      <td>EBAAEADBCACBBABEECBAAEEBBBADCBADBCEDDEBBCAEAB</td>\n",
       "      <td>ACABBACAEADCEADABDACDCEABDDADBEDDDEBBACCDDDCCE...</td>\n",
       "      <td>DCCAEBABDDCABEECCBCCEXADDCEECDEBADCABBDBDEDCE</td>\n",
       "      <td>1.00</td>\n",
       "      <td>120.00</td>\n",
       "      <td>120.00</td>\n",
       "      <td>120.00</td>\n",
       "      <td>120.00</td>\n",
       "      <td>80.00</td>\n",
       "      <td>560.00</td>\n",
       "      <td>B</td>\n",
       "      <td>B</td>\n",
       "      <td>B</td>\n",
       "      <td>B</td>\n",
       "      <td>3.00</td>\n",
       "      <td>B</td>\n",
       "      <td>A</td>\n",
       "      <td>B</td>\n",
       "      <td>C</td>\n",
       "      <td>A</td>\n",
       "      <td>A</td>\n",
       "      <td>B</td>\n",
       "      <td>A</td>\n",
       "      <td>A</td>\n",
       "      <td>A</td>\n",
       "      <td>A</td>\n",
       "      <td>A</td>\n",
       "      <td>A</td>\n",
       "      <td>B</td>\n",
       "      <td>A</td>\n",
       "      <td>A</td>\n",
       "      <td>C</td>\n",
       "      <td>A</td>\n",
       "      <td>A</td>\n",
       "      <td>A</td>\n",
       "    </tr>\n",
       "    <tr>\n",
       "      <th>2</th>\n",
       "      <td>210052589243</td>\n",
       "      <td>2021</td>\n",
       "      <td>13</td>\n",
       "      <td>F</td>\n",
       "      <td>3</td>\n",
       "      <td>1</td>\n",
       "      <td>1</td>\n",
       "      <td>1</td>\n",
       "      <td>15</td>\n",
       "      <td>1</td>\n",
       "      <td>NaN</td>\n",
       "      <td>0</td>\n",
       "      <td>NaN</td>\n",
       "      <td>NaN</td>\n",
       "      <td>NaN</td>\n",
       "      <td>NaN</td>\n",
       "      <td>NaN</td>\n",
       "      <td>NaN</td>\n",
       "      <td>NaN</td>\n",
       "      <td>3515707</td>\n",
       "      <td>Ferraz de Vasconcelos</td>\n",
       "      <td>35</td>\n",
       "      <td>SP</td>\n",
       "      <td>0</td>\n",
       "      <td>0</td>\n",
       "      <td>0</td>\n",
       "      <td>0</td>\n",
       "      <td>NaN</td>\n",
       "      <td>NaN</td>\n",
       "      <td>NaN</td>\n",
       "      <td>NaN</td>\n",
       "      <td>NaN</td>\n",
       "      <td>NaN</td>\n",
       "      <td>NaN</td>\n",
       "      <td>NaN</td>\n",
       "      <td>NaN</td>\n",
       "      <td>NaN</td>\n",
       "      <td>NaN</td>\n",
       "      <td>NaN</td>\n",
       "      <td>1</td>\n",
       "      <td>NaN</td>\n",
       "      <td>NaN</td>\n",
       "      <td>NaN</td>\n",
       "      <td>NaN</td>\n",
       "      <td>NaN</td>\n",
       "      <td>NaN</td>\n",
       "      <td>NaN</td>\n",
       "      <td>NaN</td>\n",
       "      <td>NaN</td>\n",
       "      <td>NaN</td>\n",
       "      <td>NaN</td>\n",
       "      <td>B</td>\n",
       "      <td>C</td>\n",
       "      <td>C</td>\n",
       "      <td>B</td>\n",
       "      <td>3.00</td>\n",
       "      <td>C</td>\n",
       "      <td>A</td>\n",
       "      <td>B</td>\n",
       "      <td>B</td>\n",
       "      <td>A</td>\n",
       "      <td>A</td>\n",
       "      <td>B</td>\n",
       "      <td>B</td>\n",
       "      <td>A</td>\n",
       "      <td>A</td>\n",
       "      <td>B</td>\n",
       "      <td>A</td>\n",
       "      <td>A</td>\n",
       "      <td>B</td>\n",
       "      <td>A</td>\n",
       "      <td>A</td>\n",
       "      <td>C</td>\n",
       "      <td>B</td>\n",
       "      <td>B</td>\n",
       "      <td>B</td>\n",
       "    </tr>\n",
       "    <tr>\n",
       "      <th>3</th>\n",
       "      <td>210052128335</td>\n",
       "      <td>2021</td>\n",
       "      <td>3</td>\n",
       "      <td>M</td>\n",
       "      <td>1</td>\n",
       "      <td>3</td>\n",
       "      <td>1</td>\n",
       "      <td>2</td>\n",
       "      <td>0</td>\n",
       "      <td>2</td>\n",
       "      <td>1.00</td>\n",
       "      <td>0</td>\n",
       "      <td>2304202.00</td>\n",
       "      <td>Crato</td>\n",
       "      <td>23.00</td>\n",
       "      <td>CE</td>\n",
       "      <td>2.00</td>\n",
       "      <td>1.00</td>\n",
       "      <td>1.00</td>\n",
       "      <td>2304202</td>\n",
       "      <td>Crato</td>\n",
       "      <td>23</td>\n",
       "      <td>CE</td>\n",
       "      <td>1</td>\n",
       "      <td>1</td>\n",
       "      <td>1</td>\n",
       "      <td>1</td>\n",
       "      <td>911.00</td>\n",
       "      <td>880.00</td>\n",
       "      <td>890.00</td>\n",
       "      <td>902.00</td>\n",
       "      <td>580.70</td>\n",
       "      <td>678.90</td>\n",
       "      <td>638.90</td>\n",
       "      <td>659.50</td>\n",
       "      <td>CCABBDAEDBEBEDDCAAABBDAADBDCACACEDAABCEABAEBC</td>\n",
       "      <td>CBBDABAABBAAEECEBAADADBEBCAEEBEDDEBBBADBCBEDC</td>\n",
       "      <td>ABBCA99999CDECCCBADCDBCEAEBBAAEADEEADDACAEDDAB...</td>\n",
       "      <td>EACDCEACDDDDCBDDCABADAEBACDCDDEDBBCDBECACCCCA</td>\n",
       "      <td>0</td>\n",
       "      <td>CDBBBCABEDEDEAAEBACCCBDABCDCBCBDECDADCDBBEEBB</td>\n",
       "      <td>BBBAAEECBBABEECEBAAEADBCACAEABEDDEBBBADBCBADC</td>\n",
       "      <td>ABBCAEAACADDCACDCADABBBBDEBBACEADCEBDDACEEDDDB...</td>\n",
       "      <td>ECCCABBDBDDDCEDDCABXEEEBABEDCEDCCAEBADBCCECDA</td>\n",
       "      <td>1.00</td>\n",
       "      <td>120.00</td>\n",
       "      <td>180.00</td>\n",
       "      <td>120.00</td>\n",
       "      <td>200.00</td>\n",
       "      <td>160.00</td>\n",
       "      <td>780.00</td>\n",
       "      <td>B</td>\n",
       "      <td>B</td>\n",
       "      <td>B</td>\n",
       "      <td>B</td>\n",
       "      <td>6.00</td>\n",
       "      <td>B</td>\n",
       "      <td>A</td>\n",
       "      <td>B</td>\n",
       "      <td>C</td>\n",
       "      <td>A</td>\n",
       "      <td>A</td>\n",
       "      <td>B</td>\n",
       "      <td>A</td>\n",
       "      <td>A</td>\n",
       "      <td>A</td>\n",
       "      <td>A</td>\n",
       "      <td>A</td>\n",
       "      <td>A</td>\n",
       "      <td>B</td>\n",
       "      <td>A</td>\n",
       "      <td>A</td>\n",
       "      <td>B</td>\n",
       "      <td>A</td>\n",
       "      <td>B</td>\n",
       "      <td>B</td>\n",
       "    </tr>\n",
       "    <tr>\n",
       "      <th>4</th>\n",
       "      <td>210051353021</td>\n",
       "      <td>2021</td>\n",
       "      <td>2</td>\n",
       "      <td>F</td>\n",
       "      <td>1</td>\n",
       "      <td>3</td>\n",
       "      <td>1</td>\n",
       "      <td>2</td>\n",
       "      <td>0</td>\n",
       "      <td>2</td>\n",
       "      <td>1.00</td>\n",
       "      <td>0</td>\n",
       "      <td>2311603.00</td>\n",
       "      <td>Redenção</td>\n",
       "      <td>23.00</td>\n",
       "      <td>CE</td>\n",
       "      <td>2.00</td>\n",
       "      <td>1.00</td>\n",
       "      <td>1.00</td>\n",
       "      <td>2300150</td>\n",
       "      <td>Acarape</td>\n",
       "      <td>23</td>\n",
       "      <td>CE</td>\n",
       "      <td>1</td>\n",
       "      <td>1</td>\n",
       "      <td>1</td>\n",
       "      <td>1</td>\n",
       "      <td>912.00</td>\n",
       "      <td>882.00</td>\n",
       "      <td>891.00</td>\n",
       "      <td>901.00</td>\n",
       "      <td>497.70</td>\n",
       "      <td>532.40</td>\n",
       "      <td>457.60</td>\n",
       "      <td>582.60</td>\n",
       "      <td>BABCDCCBEBCD.DEDCABCBDEDAABEDADBDBCDECCAEDBCB</td>\n",
       "      <td>CAE.ACDCAAEBBEDEBCADADEDADAACEBDABBCEABBCDEAC</td>\n",
       "      <td>99999EAACBDCBECCABADBEDADCDADDCDDECABAADEBBDAC...</td>\n",
       "      <td>ACEDEBECABDABDEECBDEEADDDDBEBCEADCCADCADEDCEB</td>\n",
       "      <td>1</td>\n",
       "      <td>DABCEDEBEEBBCABEDDCBCBECDADCDAACBDCCCDBBBEBAB</td>\n",
       "      <td>EBAAEADBCACBBABEECBAAEEBBBADCBADBCEDDEBBCAEAB</td>\n",
       "      <td>ACABBACAEADCEADABDACDCEABDDADBEDDDEBBACCDDDCCE...</td>\n",
       "      <td>DCCAEBABDDCABEECCBCCEXADDCEECDEBADCABBDBDEDCE</td>\n",
       "      <td>1.00</td>\n",
       "      <td>120.00</td>\n",
       "      <td>140.00</td>\n",
       "      <td>160.00</td>\n",
       "      <td>180.00</td>\n",
       "      <td>180.00</td>\n",
       "      <td>780.00</td>\n",
       "      <td>D</td>\n",
       "      <td>E</td>\n",
       "      <td>F</td>\n",
       "      <td>D</td>\n",
       "      <td>4.00</td>\n",
       "      <td>C</td>\n",
       "      <td>A</td>\n",
       "      <td>B</td>\n",
       "      <td>C</td>\n",
       "      <td>A</td>\n",
       "      <td>A</td>\n",
       "      <td>B</td>\n",
       "      <td>A</td>\n",
       "      <td>B</td>\n",
       "      <td>A</td>\n",
       "      <td>B</td>\n",
       "      <td>A</td>\n",
       "      <td>A</td>\n",
       "      <td>B</td>\n",
       "      <td>A</td>\n",
       "      <td>B</td>\n",
       "      <td>E</td>\n",
       "      <td>A</td>\n",
       "      <td>B</td>\n",
       "      <td>B</td>\n",
       "    </tr>\n",
       "  </tbody>\n",
       "</table>\n",
       "</div>"
      ],
      "text/plain": [
       "   NU_INSCRICAO  NU_ANO  TP_FAIXA_ETARIA TP_SEXO  TP_ESTADO_CIVIL  \\\n",
       "0  210053865474    2021                5       F                1   \n",
       "1  210052384164    2021               12       M                1   \n",
       "2  210052589243    2021               13       F                3   \n",
       "3  210052128335    2021                3       M                1   \n",
       "4  210051353021    2021                2       F                1   \n",
       "\n",
       "   TP_COR_RACA  TP_NACIONALIDADE  TP_ST_CONCLUSAO  TP_ANO_CONCLUIU  TP_ESCOLA  \\\n",
       "0            1                 1                1                3          1   \n",
       "1            1                 1                1               11          1   \n",
       "2            1                 1                1               15          1   \n",
       "3            3                 1                2                0          2   \n",
       "4            3                 1                2                0          2   \n",
       "\n",
       "   TP_ENSINO  IN_TREINEIRO  CO_MUNICIPIO_ESC NO_MUNICIPIO_ESC  CO_UF_ESC  \\\n",
       "0        NaN             0               NaN              NaN        NaN   \n",
       "1        NaN             0               NaN              NaN        NaN   \n",
       "2        NaN             0               NaN              NaN        NaN   \n",
       "3       1.00             0        2304202.00            Crato      23.00   \n",
       "4       1.00             0        2311603.00         Redenção      23.00   \n",
       "\n",
       "  SG_UF_ESC  TP_DEPENDENCIA_ADM_ESC  TP_LOCALIZACAO_ESC  TP_SIT_FUNC_ESC  \\\n",
       "0       NaN                     NaN                 NaN              NaN   \n",
       "1       NaN                     NaN                 NaN              NaN   \n",
       "2       NaN                     NaN                 NaN              NaN   \n",
       "3        CE                    2.00                1.00             1.00   \n",
       "4        CE                    2.00                1.00             1.00   \n",
       "\n",
       "   CO_MUNICIPIO_PROVA     NO_MUNICIPIO_PROVA  CO_UF_PROVA SG_UF_PROVA  \\\n",
       "0             3144805              Nova Lima           31          MG   \n",
       "1             2704302                 Maceió           27          AL   \n",
       "2             3515707  Ferraz de Vasconcelos           35          SP   \n",
       "3             2304202                  Crato           23          CE   \n",
       "4             2300150                Acarape           23          CE   \n",
       "\n",
       "   TP_PRESENCA_CN  TP_PRESENCA_CH  TP_PRESENCA_LC  TP_PRESENCA_MT  \\\n",
       "0               0               1               1               0   \n",
       "1               1               1               1               1   \n",
       "2               0               0               0               0   \n",
       "3               1               1               1               1   \n",
       "4               1               1               1               1   \n",
       "\n",
       "   CO_PROVA_CN  CO_PROVA_CH  CO_PROVA_LC  CO_PROVA_MT  NU_NOTA_CN  NU_NOTA_CH  \\\n",
       "0          NaN       881.00       892.00          NaN         NaN      574.60   \n",
       "1       912.00       882.00       891.00       901.00      505.90      551.80   \n",
       "2          NaN          NaN          NaN          NaN         NaN         NaN   \n",
       "3       911.00       880.00       890.00       902.00      580.70      678.90   \n",
       "4       912.00       882.00       891.00       901.00      497.70      532.40   \n",
       "\n",
       "   NU_NOTA_LC  NU_NOTA_MT                                TX_RESPOSTAS_CN  \\\n",
       "0      472.60         NaN                                            NaN   \n",
       "1      498.30      461.50  DCBCCBDBCCCCCCDDCDCCCACCABCCECCCCAADCCCBBCADE   \n",
       "2         NaN         NaN                                            NaN   \n",
       "3      638.90      659.50  CCABBDAEDBEBEDDCAAABBDAADBDCACACEDAABCEABAEBC   \n",
       "4      457.60      582.60  BABCDCCBEBCD.DEDCABCBDEDAABEDADBDBCDECCAEDBCB   \n",
       "\n",
       "                                 TX_RESPOSTAS_CH  \\\n",
       "0  BBCCECEABCEABADDAAEECBEBADADAAABABBABBACCCBBB   \n",
       "1  ECCDAAEBCDACBDBDECABBEAACBCBCCCDACEABEBEBACAE   \n",
       "2                                            NaN   \n",
       "3  CBBDABAABBAAEECEBAADADBEBCAEEBEDDEBBBADBCBEDC   \n",
       "4  CAE.ACDCAAEBBEDEBCADADEDADAACEBDABBCEABBCDEAC   \n",
       "\n",
       "                                     TX_RESPOSTAS_LC  \\\n",
       "0  99999BADDEAEBACADADDAEABCEECDDBBAEADEDEABADBBA...   \n",
       "1  99999ACECCEEBACDABACBECBBCDBDEBDDCCCDECCDDCCCC...   \n",
       "2                                                NaN   \n",
       "3  ABBCA99999CDECCCBADCDBCEAEBBAAEADEEADDACAEDDAB...   \n",
       "4  99999EAACBDCBECCABADBEDADCDADDCDDECABAADEBBDAC...   \n",
       "\n",
       "                                 TX_RESPOSTAS_MT  TP_LINGUA  \\\n",
       "0                                            NaN          1   \n",
       "1  CDCCBCCCDCCCCBEACEECAEABECCCDCBBCABACDAEDCCEC          1   \n",
       "2                                            NaN          1   \n",
       "3  EACDCEACDDDDCBDDCABADAEBACDCDDEDBBCDBECACCCCA          0   \n",
       "4  ACEDEBECABDABDEECBDEEADDDDBEBCEADCCADCADEDCEB          1   \n",
       "\n",
       "                                  TX_GABARITO_CN  \\\n",
       "0                                            NaN   \n",
       "1  DABCEDEBEEBBCABEDDCBCBECDADCDAACBDCCCDBBBEBAB   \n",
       "2                                            NaN   \n",
       "3  CDBBBCABEDEDEAAEBACCCBDABCDCBCBDECDADCDBBEEBB   \n",
       "4  DABCEDEBEEBBCABEDDCBCBECDADCDAACBDCCCDBBBEBAB   \n",
       "\n",
       "                                  TX_GABARITO_CH  \\\n",
       "0  BEECCAEABADBCAEBAAEEDDEBBBADBCBAAEEBBBADCCBBA   \n",
       "1  EBAAEADBCACBBABEECBAAEEBBBADCBADBCEDDEBBCAEAB   \n",
       "2                                            NaN   \n",
       "3  BBBAAEECBBABEECEBAAEADBCACAEABEDDEBBBADBCBADC   \n",
       "4  EBAAEADBCACBBABEECBAAEEBBBADCBADBCEDDEBBCAEAB   \n",
       "\n",
       "                                      TX_GABARITO_LC  \\\n",
       "0  ABBACAAECACDBDDADEBDDCBDCEDBEDDBBBBDCEEAADABAC...   \n",
       "1  ACABBACAEADCEADABDACDCEABDDADBEDDDEBBACCDDDCCE...   \n",
       "2                                                NaN   \n",
       "3  ABBCAEAACADDCACDCADABBBBDEBBACEADCEBDDACEEDDDB...   \n",
       "4  ACABBACAEADCEADABDACDCEABDDADBEDDDEBBACCDDDCCE...   \n",
       "\n",
       "                                  TX_GABARITO_MT  TP_STATUS_REDACAO  \\\n",
       "0                                            NaN               1.00   \n",
       "1  DCCAEBABDDCABEECCBCCEXADDCEECDEBADCABBDBDEDCE               1.00   \n",
       "2                                            NaN                NaN   \n",
       "3  ECCCABBDBDDDCEDDCABXEEEBABEDCEDCCAEBADBCCECDA               1.00   \n",
       "4  DCCAEBABDDCABEECCBCCEXADDCEECDEBADCABBDBDEDCE               1.00   \n",
       "\n",
       "   NU_NOTA_COMP1  NU_NOTA_COMP2  NU_NOTA_COMP3  NU_NOTA_COMP4  NU_NOTA_COMP5  \\\n",
       "0         140.00         120.00         120.00         180.00         200.00   \n",
       "1         120.00         120.00         120.00         120.00          80.00   \n",
       "2            NaN            NaN            NaN            NaN            NaN   \n",
       "3         120.00         180.00         120.00         200.00         160.00   \n",
       "4         120.00         140.00         160.00         180.00         180.00   \n",
       "\n",
       "   NU_NOTA_REDACAO Q001 Q002 Q003 Q004  Q005 Q006 Q007 Q008 Q009 Q010 Q011  \\\n",
       "0           760.00    F    F    B    B  3.00    D    A    B    C    B    A   \n",
       "1           560.00    B    B    B    B  3.00    B    A    B    C    A    A   \n",
       "2              NaN    B    C    C    B  3.00    C    A    B    B    A    A   \n",
       "3           780.00    B    B    B    B  6.00    B    A    B    C    A    A   \n",
       "4           780.00    D    E    F    D  4.00    C    A    B    C    A    A   \n",
       "\n",
       "  Q012 Q013 Q014 Q015 Q016 Q017 Q018 Q019 Q020 Q021 Q022 Q023 Q024 Q025  \n",
       "0    B    A    B    A    A    A    A    B    A    A    B    A    B    B  \n",
       "1    B    A    A    A    A    A    A    B    A    A    C    A    A    A  \n",
       "2    B    B    A    A    B    A    A    B    A    A    C    B    B    B  \n",
       "3    B    A    A    A    A    A    A    B    A    A    B    A    B    B  \n",
       "4    B    A    B    A    B    A    A    B    A    B    E    A    B    B  "
      ]
     },
     "execution_count": 2,
     "metadata": {},
     "output_type": "execute_result"
    }
   ],
   "source": [
    "enem_df = pd.read_csv(\"MICRODADOS_ENEM_2021.csv\", sep=';', encoding = \"ISO-8859-1\", chunksize=1000000)\n",
    "enem_df = pd.concat(enem_df, ignore_index=True)\n",
    "\n",
    "enem_df.head()\n"
   ]
  },
  {
   "cell_type": "markdown",
   "metadata": {},
   "source": [
    "Tamanho do DataFrame:"
   ]
  },
  {
   "cell_type": "code",
   "execution_count": 3,
   "metadata": {},
   "outputs": [
    {
     "data": {
      "text/plain": [
       "(3389832, 76)"
      ]
     },
     "execution_count": 3,
     "metadata": {},
     "output_type": "execute_result"
    }
   ],
   "source": [
    "enem_df.shape"
   ]
  },
  {
   "cell_type": "markdown",
   "metadata": {},
   "source": [
    "Visualizando os tipos de dados"
   ]
  },
  {
   "cell_type": "code",
   "execution_count": 4,
   "metadata": {},
   "outputs": [
    {
     "data": {
      "text/plain": [
       "NU_INSCRICAO                int64\n",
       "NU_ANO                      int64\n",
       "TP_FAIXA_ETARIA             int64\n",
       "TP_SEXO                    object\n",
       "TP_ESTADO_CIVIL             int64\n",
       "TP_COR_RACA                 int64\n",
       "TP_NACIONALIDADE            int64\n",
       "TP_ST_CONCLUSAO             int64\n",
       "TP_ANO_CONCLUIU             int64\n",
       "TP_ESCOLA                   int64\n",
       "TP_ENSINO                 float64\n",
       "IN_TREINEIRO                int64\n",
       "CO_MUNICIPIO_ESC          float64\n",
       "NO_MUNICIPIO_ESC           object\n",
       "CO_UF_ESC                 float64\n",
       "SG_UF_ESC                  object\n",
       "TP_DEPENDENCIA_ADM_ESC    float64\n",
       "TP_LOCALIZACAO_ESC        float64\n",
       "TP_SIT_FUNC_ESC           float64\n",
       "CO_MUNICIPIO_PROVA          int64\n",
       "NO_MUNICIPIO_PROVA         object\n",
       "CO_UF_PROVA                 int64\n",
       "SG_UF_PROVA                object\n",
       "TP_PRESENCA_CN              int64\n",
       "TP_PRESENCA_CH              int64\n",
       "TP_PRESENCA_LC              int64\n",
       "TP_PRESENCA_MT              int64\n",
       "CO_PROVA_CN               float64\n",
       "CO_PROVA_CH               float64\n",
       "CO_PROVA_LC               float64\n",
       "CO_PROVA_MT               float64\n",
       "NU_NOTA_CN                float64\n",
       "NU_NOTA_CH                float64\n",
       "NU_NOTA_LC                float64\n",
       "NU_NOTA_MT                float64\n",
       "TX_RESPOSTAS_CN            object\n",
       "TX_RESPOSTAS_CH            object\n",
       "TX_RESPOSTAS_LC            object\n",
       "TX_RESPOSTAS_MT            object\n",
       "TP_LINGUA                   int64\n",
       "TX_GABARITO_CN             object\n",
       "TX_GABARITO_CH             object\n",
       "TX_GABARITO_LC             object\n",
       "TX_GABARITO_MT             object\n",
       "TP_STATUS_REDACAO         float64\n",
       "NU_NOTA_COMP1             float64\n",
       "NU_NOTA_COMP2             float64\n",
       "NU_NOTA_COMP3             float64\n",
       "NU_NOTA_COMP4             float64\n",
       "NU_NOTA_COMP5             float64\n",
       "NU_NOTA_REDACAO           float64\n",
       "Q001                       object\n",
       "Q002                       object\n",
       "Q003                       object\n",
       "Q004                       object\n",
       "Q005                      float64\n",
       "Q006                       object\n",
       "Q007                       object\n",
       "Q008                       object\n",
       "Q009                       object\n",
       "Q010                       object\n",
       "Q011                       object\n",
       "Q012                       object\n",
       "Q013                       object\n",
       "Q014                       object\n",
       "Q015                       object\n",
       "Q016                       object\n",
       "Q017                       object\n",
       "Q018                       object\n",
       "Q019                       object\n",
       "Q020                       object\n",
       "Q021                       object\n",
       "Q022                       object\n",
       "Q023                       object\n",
       "Q024                       object\n",
       "Q025                       object\n",
       "dtype: object"
      ]
     },
     "execution_count": 4,
     "metadata": {},
     "output_type": "execute_result"
    }
   ],
   "source": [
    "enem_df.dtypes"
   ]
  },
  {
   "cell_type": "markdown",
   "metadata": {},
   "source": [
    "#### 3.0 - Selecionando colunas importantes"
   ]
  },
  {
   "cell_type": "code",
   "execution_count": 5,
   "metadata": {},
   "outputs": [
    {
     "name": "stdout",
     "output_type": "stream",
     "text": [
      "['NU_INSCRICAO', 'NU_ANO', 'TP_FAIXA_ETARIA', 'TP_SEXO', 'TP_ESTADO_CIVIL', 'TP_COR_RACA', 'TP_NACIONALIDADE', 'TP_ST_CONCLUSAO', 'TP_ANO_CONCLUIU', 'TP_ESCOLA', 'TP_ENSINO', 'IN_TREINEIRO', 'CO_MUNICIPIO_ESC', 'NO_MUNICIPIO_ESC', 'CO_UF_ESC', 'SG_UF_ESC', 'TP_DEPENDENCIA_ADM_ESC', 'TP_LOCALIZACAO_ESC', 'TP_SIT_FUNC_ESC', 'CO_MUNICIPIO_PROVA', 'NO_MUNICIPIO_PROVA', 'CO_UF_PROVA', 'SG_UF_PROVA', 'TP_PRESENCA_CN', 'TP_PRESENCA_CH', 'TP_PRESENCA_LC', 'TP_PRESENCA_MT', 'CO_PROVA_CN', 'CO_PROVA_CH', 'CO_PROVA_LC', 'CO_PROVA_MT', 'NU_NOTA_CN', 'NU_NOTA_CH', 'NU_NOTA_LC', 'NU_NOTA_MT', 'TX_RESPOSTAS_CN', 'TX_RESPOSTAS_CH', 'TX_RESPOSTAS_LC', 'TX_RESPOSTAS_MT', 'TP_LINGUA', 'TX_GABARITO_CN', 'TX_GABARITO_CH', 'TX_GABARITO_LC', 'TX_GABARITO_MT', 'TP_STATUS_REDACAO', 'NU_NOTA_COMP1', 'NU_NOTA_COMP2', 'NU_NOTA_COMP3', 'NU_NOTA_COMP4', 'NU_NOTA_COMP5', 'NU_NOTA_REDACAO', 'Q001', 'Q002', 'Q003', 'Q004', 'Q005', 'Q006', 'Q007', 'Q008', 'Q009', 'Q010', 'Q011', 'Q012', 'Q013', 'Q014', 'Q015', 'Q016', 'Q017', 'Q018', 'Q019', 'Q020', 'Q021', 'Q022', 'Q023', 'Q024', 'Q025']\n"
     ]
    }
   ],
   "source": [
    "print(list(enem_df.columns))"
   ]
  },
  {
   "cell_type": "code",
   "execution_count": 6,
   "metadata": {},
   "outputs": [
    {
     "data": {
      "text/html": [
       "<div>\n",
       "<style scoped>\n",
       "    .dataframe tbody tr th:only-of-type {\n",
       "        vertical-align: middle;\n",
       "    }\n",
       "\n",
       "    .dataframe tbody tr th {\n",
       "        vertical-align: top;\n",
       "    }\n",
       "\n",
       "    .dataframe thead th {\n",
       "        text-align: right;\n",
       "    }\n",
       "</style>\n",
       "<table border=\"1\" class=\"dataframe\">\n",
       "  <thead>\n",
       "    <tr style=\"text-align: right;\">\n",
       "      <th></th>\n",
       "      <th>NU_INSCRICAO</th>\n",
       "      <th>TP_SEXO</th>\n",
       "      <th>TP_FAIXA_ETARIA</th>\n",
       "      <th>TP_COR_RACA</th>\n",
       "      <th>NO_MUNICIPIO_ESC</th>\n",
       "      <th>SG_UF_PROVA</th>\n",
       "      <th>TP_ESCOLA</th>\n",
       "      <th>NU_NOTA_CN</th>\n",
       "      <th>NU_NOTA_CH</th>\n",
       "      <th>NU_NOTA_LC</th>\n",
       "      <th>NU_NOTA_MT</th>\n",
       "      <th>NU_NOTA_REDACAO</th>\n",
       "      <th>TP_LINGUA</th>\n",
       "      <th>EDU_PAI</th>\n",
       "      <th>EDU_MAE</th>\n",
       "      <th>POP_RES</th>\n",
       "      <th>RENDA_FAM</th>\n",
       "      <th>Q025</th>\n",
       "    </tr>\n",
       "  </thead>\n",
       "  <tbody>\n",
       "    <tr>\n",
       "      <th>0</th>\n",
       "      <td>210053865474</td>\n",
       "      <td>F</td>\n",
       "      <td>5</td>\n",
       "      <td>1</td>\n",
       "      <td>NaN</td>\n",
       "      <td>MG</td>\n",
       "      <td>1</td>\n",
       "      <td>NaN</td>\n",
       "      <td>574.60</td>\n",
       "      <td>472.60</td>\n",
       "      <td>NaN</td>\n",
       "      <td>760.00</td>\n",
       "      <td>1</td>\n",
       "      <td>F</td>\n",
       "      <td>F</td>\n",
       "      <td>3.00</td>\n",
       "      <td>D</td>\n",
       "      <td>B</td>\n",
       "    </tr>\n",
       "    <tr>\n",
       "      <th>1</th>\n",
       "      <td>210052384164</td>\n",
       "      <td>M</td>\n",
       "      <td>12</td>\n",
       "      <td>1</td>\n",
       "      <td>NaN</td>\n",
       "      <td>AL</td>\n",
       "      <td>1</td>\n",
       "      <td>505.90</td>\n",
       "      <td>551.80</td>\n",
       "      <td>498.30</td>\n",
       "      <td>461.50</td>\n",
       "      <td>560.00</td>\n",
       "      <td>1</td>\n",
       "      <td>B</td>\n",
       "      <td>B</td>\n",
       "      <td>3.00</td>\n",
       "      <td>B</td>\n",
       "      <td>A</td>\n",
       "    </tr>\n",
       "    <tr>\n",
       "      <th>2</th>\n",
       "      <td>210052589243</td>\n",
       "      <td>F</td>\n",
       "      <td>13</td>\n",
       "      <td>1</td>\n",
       "      <td>NaN</td>\n",
       "      <td>SP</td>\n",
       "      <td>1</td>\n",
       "      <td>NaN</td>\n",
       "      <td>NaN</td>\n",
       "      <td>NaN</td>\n",
       "      <td>NaN</td>\n",
       "      <td>NaN</td>\n",
       "      <td>1</td>\n",
       "      <td>B</td>\n",
       "      <td>C</td>\n",
       "      <td>3.00</td>\n",
       "      <td>C</td>\n",
       "      <td>B</td>\n",
       "    </tr>\n",
       "    <tr>\n",
       "      <th>3</th>\n",
       "      <td>210052128335</td>\n",
       "      <td>M</td>\n",
       "      <td>3</td>\n",
       "      <td>3</td>\n",
       "      <td>Crato</td>\n",
       "      <td>CE</td>\n",
       "      <td>2</td>\n",
       "      <td>580.70</td>\n",
       "      <td>678.90</td>\n",
       "      <td>638.90</td>\n",
       "      <td>659.50</td>\n",
       "      <td>780.00</td>\n",
       "      <td>0</td>\n",
       "      <td>B</td>\n",
       "      <td>B</td>\n",
       "      <td>6.00</td>\n",
       "      <td>B</td>\n",
       "      <td>B</td>\n",
       "    </tr>\n",
       "    <tr>\n",
       "      <th>4</th>\n",
       "      <td>210051353021</td>\n",
       "      <td>F</td>\n",
       "      <td>2</td>\n",
       "      <td>3</td>\n",
       "      <td>Redenção</td>\n",
       "      <td>CE</td>\n",
       "      <td>2</td>\n",
       "      <td>497.70</td>\n",
       "      <td>532.40</td>\n",
       "      <td>457.60</td>\n",
       "      <td>582.60</td>\n",
       "      <td>780.00</td>\n",
       "      <td>1</td>\n",
       "      <td>D</td>\n",
       "      <td>E</td>\n",
       "      <td>4.00</td>\n",
       "      <td>C</td>\n",
       "      <td>B</td>\n",
       "    </tr>\n",
       "  </tbody>\n",
       "</table>\n",
       "</div>"
      ],
      "text/plain": [
       "   NU_INSCRICAO TP_SEXO  TP_FAIXA_ETARIA  TP_COR_RACA NO_MUNICIPIO_ESC  \\\n",
       "0  210053865474       F                5            1              NaN   \n",
       "1  210052384164       M               12            1              NaN   \n",
       "2  210052589243       F               13            1              NaN   \n",
       "3  210052128335       M                3            3            Crato   \n",
       "4  210051353021       F                2            3         Redenção   \n",
       "\n",
       "  SG_UF_PROVA  TP_ESCOLA  NU_NOTA_CN  NU_NOTA_CH  NU_NOTA_LC  NU_NOTA_MT  \\\n",
       "0          MG          1         NaN      574.60      472.60         NaN   \n",
       "1          AL          1      505.90      551.80      498.30      461.50   \n",
       "2          SP          1         NaN         NaN         NaN         NaN   \n",
       "3          CE          2      580.70      678.90      638.90      659.50   \n",
       "4          CE          2      497.70      532.40      457.60      582.60   \n",
       "\n",
       "   NU_NOTA_REDACAO  TP_LINGUA EDU_PAI EDU_MAE  POP_RES RENDA_FAM Q025  \n",
       "0           760.00          1       F       F     3.00         D    B  \n",
       "1           560.00          1       B       B     3.00         B    A  \n",
       "2              NaN          1       B       C     3.00         C    B  \n",
       "3           780.00          0       B       B     6.00         B    B  \n",
       "4           780.00          1       D       E     4.00         C    B  "
      ]
     },
     "execution_count": 6,
     "metadata": {},
     "output_type": "execute_result"
    }
   ],
   "source": [
    "sel_col= [\"NU_INSCRICAO\",\"TP_SEXO\",\"TP_FAIXA_ETARIA\", \"TP_COR_RACA\", \"NO_MUNICIPIO_ESC\",\"SG_UF_PROVA\", \"TP_ESCOLA\", \"NU_NOTA_CN\",\"NU_NOTA_CH\",\"NU_NOTA_LC\",\"NU_NOTA_MT\",\"NU_NOTA_REDACAO\", \"TP_LINGUA\",\n",
    "           \"Q001\",\"Q002\",\"Q005\",\"Q006\", \"Q025\"]\n",
    "enem_df2 = enem_df[sel_col]\n",
    "enem_df2 = enem_df2.rename(columns={'Q001': 'EDU_PAI', \"Q002\":\"EDU_MAE\",\"Q005\":\"POP_RES\",\"Q006\":\"RENDA_FAM\",\"Q025 \":\"INTERNET\"})\n",
    "enem_df2.head()"
   ]
  },
  {
   "cell_type": "code",
   "execution_count": 7,
   "metadata": {},
   "outputs": [
    {
     "data": {
      "text/plain": [
       "(3389832, 18)"
      ]
     },
     "execution_count": 7,
     "metadata": {},
     "output_type": "execute_result"
    }
   ],
   "source": [
    "enem_df2.shape"
   ]
  },
  {
   "cell_type": "markdown",
   "metadata": {},
   "source": [
    "#### 4.0 - Filtrando apenas candidatos que tenham feito todas as provas"
   ]
  },
  {
   "cell_type": "code",
   "execution_count": 8,
   "metadata": {},
   "outputs": [
    {
     "data": {
      "text/html": [
       "<div>\n",
       "<style scoped>\n",
       "    .dataframe tbody tr th:only-of-type {\n",
       "        vertical-align: middle;\n",
       "    }\n",
       "\n",
       "    .dataframe tbody tr th {\n",
       "        vertical-align: top;\n",
       "    }\n",
       "\n",
       "    .dataframe thead th {\n",
       "        text-align: right;\n",
       "    }\n",
       "</style>\n",
       "<table border=\"1\" class=\"dataframe\">\n",
       "  <thead>\n",
       "    <tr style=\"text-align: right;\">\n",
       "      <th></th>\n",
       "      <th>NU_INSCRICAO</th>\n",
       "      <th>TP_SEXO</th>\n",
       "      <th>TP_FAIXA_ETARIA</th>\n",
       "      <th>TP_COR_RACA</th>\n",
       "      <th>NO_MUNICIPIO_ESC</th>\n",
       "      <th>SG_UF_PROVA</th>\n",
       "      <th>TP_ESCOLA</th>\n",
       "      <th>NU_NOTA_CN</th>\n",
       "      <th>NU_NOTA_CH</th>\n",
       "      <th>NU_NOTA_LC</th>\n",
       "      <th>NU_NOTA_MT</th>\n",
       "      <th>NU_NOTA_REDACAO</th>\n",
       "      <th>TP_LINGUA</th>\n",
       "      <th>EDU_PAI</th>\n",
       "      <th>EDU_MAE</th>\n",
       "      <th>POP_RES</th>\n",
       "      <th>RENDA_FAM</th>\n",
       "      <th>Q025</th>\n",
       "      <th>NOTA_MEDIA</th>\n",
       "    </tr>\n",
       "  </thead>\n",
       "  <tbody>\n",
       "    <tr>\n",
       "      <th>3</th>\n",
       "      <td>210052128335</td>\n",
       "      <td>M</td>\n",
       "      <td>3</td>\n",
       "      <td>3</td>\n",
       "      <td>Crato</td>\n",
       "      <td>CE</td>\n",
       "      <td>2</td>\n",
       "      <td>580.70</td>\n",
       "      <td>678.90</td>\n",
       "      <td>638.90</td>\n",
       "      <td>659.50</td>\n",
       "      <td>780.00</td>\n",
       "      <td>0</td>\n",
       "      <td>B</td>\n",
       "      <td>B</td>\n",
       "      <td>6.00</td>\n",
       "      <td>B</td>\n",
       "      <td>B</td>\n",
       "      <td>2558.00</td>\n",
       "    </tr>\n",
       "    <tr>\n",
       "      <th>4</th>\n",
       "      <td>210051353021</td>\n",
       "      <td>F</td>\n",
       "      <td>2</td>\n",
       "      <td>3</td>\n",
       "      <td>Redenção</td>\n",
       "      <td>CE</td>\n",
       "      <td>2</td>\n",
       "      <td>497.70</td>\n",
       "      <td>532.40</td>\n",
       "      <td>457.60</td>\n",
       "      <td>582.60</td>\n",
       "      <td>780.00</td>\n",
       "      <td>1</td>\n",
       "      <td>D</td>\n",
       "      <td>E</td>\n",
       "      <td>4.00</td>\n",
       "      <td>C</td>\n",
       "      <td>B</td>\n",
       "      <td>2070.30</td>\n",
       "    </tr>\n",
       "    <tr>\n",
       "      <th>33</th>\n",
       "      <td>210053085526</td>\n",
       "      <td>M</td>\n",
       "      <td>3</td>\n",
       "      <td>1</td>\n",
       "      <td>Urandi</td>\n",
       "      <td>BA</td>\n",
       "      <td>2</td>\n",
       "      <td>414.60</td>\n",
       "      <td>410.10</td>\n",
       "      <td>386.70</td>\n",
       "      <td>423.00</td>\n",
       "      <td>700.00</td>\n",
       "      <td>0</td>\n",
       "      <td>C</td>\n",
       "      <td>C</td>\n",
       "      <td>6.00</td>\n",
       "      <td>B</td>\n",
       "      <td>B</td>\n",
       "      <td>1634.40</td>\n",
       "    </tr>\n",
       "    <tr>\n",
       "      <th>45</th>\n",
       "      <td>210052916275</td>\n",
       "      <td>F</td>\n",
       "      <td>4</td>\n",
       "      <td>3</td>\n",
       "      <td>Montanha</td>\n",
       "      <td>ES</td>\n",
       "      <td>2</td>\n",
       "      <td>476.80</td>\n",
       "      <td>608.50</td>\n",
       "      <td>534.20</td>\n",
       "      <td>570.20</td>\n",
       "      <td>640.00</td>\n",
       "      <td>1</td>\n",
       "      <td>H</td>\n",
       "      <td>E</td>\n",
       "      <td>4.00</td>\n",
       "      <td>C</td>\n",
       "      <td>B</td>\n",
       "      <td>2189.70</td>\n",
       "    </tr>\n",
       "    <tr>\n",
       "      <th>51</th>\n",
       "      <td>210051417174</td>\n",
       "      <td>M</td>\n",
       "      <td>3</td>\n",
       "      <td>3</td>\n",
       "      <td>São Mateus</td>\n",
       "      <td>ES</td>\n",
       "      <td>2</td>\n",
       "      <td>433.40</td>\n",
       "      <td>622.00</td>\n",
       "      <td>548.30</td>\n",
       "      <td>579.40</td>\n",
       "      <td>680.00</td>\n",
       "      <td>1</td>\n",
       "      <td>E</td>\n",
       "      <td>F</td>\n",
       "      <td>4.00</td>\n",
       "      <td>D</td>\n",
       "      <td>B</td>\n",
       "      <td>2183.10</td>\n",
       "    </tr>\n",
       "  </tbody>\n",
       "</table>\n",
       "</div>"
      ],
      "text/plain": [
       "    NU_INSCRICAO TP_SEXO  TP_FAIXA_ETARIA  TP_COR_RACA NO_MUNICIPIO_ESC  \\\n",
       "3   210052128335       M                3            3            Crato   \n",
       "4   210051353021       F                2            3         Redenção   \n",
       "33  210053085526       M                3            1           Urandi   \n",
       "45  210052916275       F                4            3         Montanha   \n",
       "51  210051417174       M                3            3       São Mateus   \n",
       "\n",
       "   SG_UF_PROVA  TP_ESCOLA  NU_NOTA_CN  NU_NOTA_CH  NU_NOTA_LC  NU_NOTA_MT  \\\n",
       "3           CE          2      580.70      678.90      638.90      659.50   \n",
       "4           CE          2      497.70      532.40      457.60      582.60   \n",
       "33          BA          2      414.60      410.10      386.70      423.00   \n",
       "45          ES          2      476.80      608.50      534.20      570.20   \n",
       "51          ES          2      433.40      622.00      548.30      579.40   \n",
       "\n",
       "    NU_NOTA_REDACAO  TP_LINGUA EDU_PAI EDU_MAE  POP_RES RENDA_FAM Q025  \\\n",
       "3            780.00          0       B       B     6.00         B    B   \n",
       "4            780.00          1       D       E     4.00         C    B   \n",
       "33           700.00          0       C       C     6.00         B    B   \n",
       "45           640.00          1       H       E     4.00         C    B   \n",
       "51           680.00          1       E       F     4.00         D    B   \n",
       "\n",
       "    NOTA_MEDIA  \n",
       "3      2558.00  \n",
       "4      2070.30  \n",
       "33     1634.40  \n",
       "45     2189.70  \n",
       "51     2183.10  "
      ]
     },
     "execution_count": 8,
     "metadata": {},
     "output_type": "execute_result"
    }
   ],
   "source": [
    "enem_df2 = enem_df2.dropna() # só nas colunas das provas\n",
    "# Criando uma coluna contendo a média das notas dos candidatos\n",
    "enem_df2[\"NOTA_MEDIA\"] = (enem_df2[\"NU_NOTA_CN\"] + enem_df2[\"NU_NOTA_CH\"] + enem_df2[\"NU_NOTA_LC\"] + enem_df2[\"NU_NOTA_MT\"])\n",
    "enem_df2.head()"
   ]
  },
  {
   "cell_type": "markdown",
   "metadata": {},
   "source": [
    "#### 5.0 - Visualizando Dados"
   ]
  },
  {
   "cell_type": "markdown",
   "metadata": {},
   "source": [
    "#### Visão sobre gênero"
   ]
  },
  {
   "cell_type": "code",
   "execution_count": 9,
   "metadata": {},
   "outputs": [
    {
     "data": {
      "image/png": "[encoded data removed]",
      "text/plain": [
       "<Figure size 1080x360 with 1 Axes>"
      ]
     },
     "metadata": {
      "needs_background": "light"
     },
     "output_type": "display_data"
    }
   ],
   "source": [
    "# Contagem de candidatos do sexo masculino e feminino\n",
    "plt.figure(figsize = (15,5))\n",
    "gender_count = enem_df2.groupby(\"TP_SEXO\").describe()[\"NU_INSCRICAO\"][\"count\"].reset_index()\n",
    "sns.barplot(data = gender_count, x = \"count\", y = \"TP_SEXO\", orient = \"h\");"
   ]
  },
  {
   "cell_type": "markdown",
   "metadata": {},
   "source": [
    "#### Gráfico visualizando em quais estados temos mais candidatos"
   ]
  },
  {
   "cell_type": "code",
   "execution_count": 23,
   "metadata": {},
   "outputs": [
    {
     "data": {
      "image/png": "[encoded data removed]",
      "text/plain": [
       "<Figure size 1440x360 with 1 Axes>"
      ]
     },
     "metadata": {
      "needs_background": "light"
     },
     "output_type": "display_data"
    }
   ],
   "source": [
    "enem_df2['SG_UF_PROVA'].value_counts().plot(title='UF da Residência',kind='bar', figsize=(20,5), rot=0);"
   ]
  },
  {
   "cell_type": "markdown",
   "metadata": {},
   "source": [
    "#### Visão sobre faixa etária dos candidatos"
   ]
  },
  {
   "cell_type": "code",
   "execution_count": 28,
   "metadata": {},
   "outputs": [
    {
     "data": {
      "image/png": "[encoded data removed]",
      "text/plain": [
       "<Figure size 1440x360 with 1 Axes>"
      ]
     },
     "metadata": {
      "needs_background": "light"
     },
     "output_type": "display_data"
    }
   ],
   "source": [
    "data_idade = enem_df2['TP_FAIXA_ETARIA'].value_counts(sort=False).plot(title='Idade',kind='bar', figsize=(20,5))"
   ]
  },
  {
   "cell_type": "markdown",
   "metadata": {},
   "source": [
    "LEGENDA:  \n",
    "- 1: MENOR QUE 17 ANOS\n",
    "- 2: 17 ANOS\n",
    "- 3: 18 ANOS\n",
    "- 4: 19 ANOS\n",
    "- 5: 20 ANOS\n",
    "- 6: 21 ANOS\n",
    "- 7: 22 ANOS\n",
    "- 8: 23 ANOS\n",
    "- 11: ENTRE 26 E 30 ANOS\n",
    "- 12: ENTRE 31 E 35 ANOS"
   ]
  },
  {
   "cell_type": "markdown",
   "metadata": {},
   "source": [
    "#### Visão sobre raça"
   ]
  },
  {
   "cell_type": "code",
   "execution_count": 12,
   "metadata": {},
   "outputs": [
    {
     "data": {
      "image/png": "[encoded data removed]",
      "text/plain": [
       "<Figure size 720x432 with 1 Axes>"
      ]
     },
     "metadata": {
      "needs_background": "light"
     },
     "output_type": "display_data"
    }
   ],
   "source": [
    "data_raca = enem_df2['TP_COR_RACA'].value_counts()\n",
    "data_raca = data_raca.rename(index = {0:\"Não declarou\", 1:\"Branca\", 2:\"Preta\",3:\"Parda\" , 4:\"Amarela\", 5:\"Indígena\"}).reset_index()\n",
    "plt.figure(figsize = (10,6))\n",
    "sns.barplot(data = data_raca, x = \"TP_COR_RACA\", y = \"index\", orient = \"h\");"
   ]
  },
  {
   "cell_type": "markdown",
   "metadata": {},
   "source": [
    "#### Descobrindo a relação entre o tipo de escola com a nota média dos candidatos"
   ]
  },
  {
   "cell_type": "code",
   "execution_count": 34,
   "metadata": {},
   "outputs": [
    {
     "data": {
      "text/html": [
       "<div>\n",
       "<style scoped>\n",
       "    .dataframe tbody tr th:only-of-type {\n",
       "        vertical-align: middle;\n",
       "    }\n",
       "\n",
       "    .dataframe tbody tr th {\n",
       "        vertical-align: top;\n",
       "    }\n",
       "\n",
       "    .dataframe thead th {\n",
       "        text-align: right;\n",
       "    }\n",
       "</style>\n",
       "<table border=\"1\" class=\"dataframe\">\n",
       "  <thead>\n",
       "    <tr style=\"text-align: right;\">\n",
       "      <th></th>\n",
       "      <th>TP_ESCOLA</th>\n",
       "      <th>mean</th>\n",
       "    </tr>\n",
       "  </thead>\n",
       "  <tbody>\n",
       "    <tr>\n",
       "      <th>0</th>\n",
       "      <td>Publica</td>\n",
       "      <td>1988.02</td>\n",
       "    </tr>\n",
       "    <tr>\n",
       "      <th>1</th>\n",
       "      <td>Privada</td>\n",
       "      <td>2280.42</td>\n",
       "    </tr>\n",
       "  </tbody>\n",
       "</table>\n",
       "</div>"
      ],
      "text/plain": [
       "  TP_ESCOLA    mean\n",
       "0   Publica 1988.02\n",
       "1   Privada 2280.42"
      ]
     },
     "execution_count": 34,
     "metadata": {},
     "output_type": "execute_result"
    }
   ],
   "source": [
    "media_escola = enem_df2.groupby(\"TP_ESCOLA\").describe()[\"NOTA_MEDIA\"][\"mean\"]\n",
    "media_escola = media_escola.iloc[[0,1]]\n",
    "media_escola = media_escola.rename(index = {2:\"Publica\", 3:\"Privada\"}).reset_index()\n",
    "media_escola\n"
   ]
  },
  {
   "cell_type": "code",
   "execution_count": 14,
   "metadata": {},
   "outputs": [
    {
     "data": {
      "image/png": "[encoded data removed]",
      "text/plain": [
       "<Figure size 720x432 with 1 Axes>"
      ]
     },
     "metadata": {
      "needs_background": "light"
     },
     "output_type": "display_data"
    }
   ],
   "source": [
    "plt.figure(figsize = (10,6))\n",
    "sns.barplot(data = media_escola, x = \"mean\", y = \"TP_ESCOLA\", orient = \"h\",);"
   ]
  },
  {
   "cell_type": "code",
   "execution_count": 15,
   "metadata": {},
   "outputs": [
    {
     "name": "stderr",
     "output_type": "stream",
     "text": [
      "c:\\Users\\jgabrielmelo\\AppData\\Local\\Programs\\Python\\Python310\\lib\\site-packages\\seaborn\\distributions.py:2619: FutureWarning: `distplot` is a deprecated function and will be removed in a future version. Please adapt your code to use either `displot` (a figure-level function with similar flexibility) or `histplot` (an axes-level function for histograms).\n",
      "  warnings.warn(msg, FutureWarning)\n",
      "c:\\Users\\jgabrielmelo\\AppData\\Local\\Programs\\Python\\Python310\\lib\\site-packages\\seaborn\\distributions.py:2619: FutureWarning: `distplot` is a deprecated function and will be removed in a future version. Please adapt your code to use either `displot` (a figure-level function with similar flexibility) or `histplot` (an axes-level function for histograms).\n",
      "  warnings.warn(msg, FutureWarning)\n"
     ]
    },
    {
     "data": {
      "image/png": "[encoded data removed]",
      "text/plain": [
       "<Figure size 1008x432 with 1 Axes>"
      ]
     },
     "metadata": {
      "needs_background": "light"
     },
     "output_type": "display_data"
    }
   ],
   "source": [
    "plt.figure(figsize = (14,6))\n",
    "nota_pub = enem_df2[enem_df2[\"TP_ESCOLA\"] == 2][\"NOTA_MEDIA\"]\n",
    "nota_priv = enem_df2[enem_df2[\"TP_ESCOLA\"] == 3][\"NOTA_MEDIA\"]\n",
    "sns.distplot(nota_pub, label = \"Publica\");\n",
    "sns.distplot(nota_priv, label = \"Privada\");\n",
    "plt.legend();"
   ]
  },
  {
   "cell_type": "markdown",
   "metadata": {},
   "source": [
    "#### Descobrindo a relação do gênero com a nota média dos candidatos"
   ]
  },
  {
   "cell_type": "code",
   "execution_count": 16,
   "metadata": {},
   "outputs": [
    {
     "data": {
      "image/png": "[encoded data removed]",
      "text/plain": [
       "<Figure size 1008x432 with 1 Axes>"
      ]
     },
     "metadata": {
      "needs_background": "light"
     },
     "output_type": "display_data"
    }
   ],
   "source": [
    "plt.figure(figsize = (14,6))\n",
    "nota_genero = enem_df2.groupby(\"TP_SEXO\").describe()[\"NOTA_MEDIA\"][\"mean\"].reset_index()\n",
    "sns.barplot(data = nota_genero, x = \"mean\", y = \"TP_SEXO\", orient = \"h\",);"
   ]
  },
  {
   "cell_type": "code",
   "execution_count": 17,
   "metadata": {},
   "outputs": [
    {
     "name": "stderr",
     "output_type": "stream",
     "text": [
      "c:\\Users\\jgabrielmelo\\AppData\\Local\\Programs\\Python\\Python310\\lib\\site-packages\\seaborn\\distributions.py:2619: FutureWarning: `distplot` is a deprecated function and will be removed in a future version. Please adapt your code to use either `displot` (a figure-level function with similar flexibility) or `histplot` (an axes-level function for histograms).\n",
      "  warnings.warn(msg, FutureWarning)\n",
      "c:\\Users\\jgabrielmelo\\AppData\\Local\\Programs\\Python\\Python310\\lib\\site-packages\\seaborn\\distributions.py:2619: FutureWarning: `distplot` is a deprecated function and will be removed in a future version. Please adapt your code to use either `displot` (a figure-level function with similar flexibility) or `histplot` (an axes-level function for histograms).\n",
      "  warnings.warn(msg, FutureWarning)\n"
     ]
    },
    {
     "data": {
      "image/png": "[encoded data removed]",
      "text/plain": [
       "<Figure size 1008x432 with 1 Axes>"
      ]
     },
     "metadata": {
      "needs_background": "light"
     },
     "output_type": "display_data"
    }
   ],
   "source": [
    "plt.figure(figsize = (14,6))\n",
    "nota_fem = enem_df2[enem_df2[\"TP_SEXO\"] == \"F\"][\"NOTA_MEDIA\"]\n",
    "nota_masc = enem_df2[enem_df2[\"TP_SEXO\"] == \"M\"][\"NOTA_MEDIA\"]\n",
    "sns.distplot(nota_fem, label = \"Feminino\");\n",
    "sns.distplot(nota_masc, label = \"Masculino\");\n",
    "plt.legend();"
   ]
  },
  {
   "cell_type": "markdown",
   "metadata": {},
   "source": [
    "#### Descobrindo a relação entre o estado do candidato e as maiores notas do ENEM"
   ]
  },
  {
   "cell_type": "code",
   "execution_count": 18,
   "metadata": {},
   "outputs": [
    {
     "data": {
      "image/png": "[encoded data removed]",
      "text/plain": [
       "<Figure size 1440x2160 with 1 Axes>"
      ]
     },
     "metadata": {
      "needs_background": "light"
     },
     "output_type": "display_data"
    }
   ],
   "source": [
    "plt.figure(figsize = (20,30))\n",
    "nota_estado = enem_df2.groupby(\"SG_UF_PROVA\").mean()[\"NOTA_MEDIA\"].reset_index().sort_values(by=\"NOTA_MEDIA\", ascending = False)\n",
    "sns.barplot(data = nota_estado, x = \"NOTA_MEDIA\", y = \"SG_UF_PROVA\", orient = \"h\");"
   ]
  },
  {
   "cell_type": "markdown",
   "metadata": {},
   "source": [
    "#### Descobrindo a relação entre maiores notas e a raça declarada"
   ]
  },
  {
   "cell_type": "code",
   "execution_count": 19,
   "metadata": {},
   "outputs": [
    {
     "data": {
      "image/png": "[encoded data removed]",
      "text/plain": [
       "<Figure size 1008x432 with 1 Axes>"
      ]
     },
     "metadata": {
      "needs_background": "light"
     },
     "output_type": "display_data"
    }
   ],
   "source": [
    "plt.figure(figsize = (14,6))\n",
    "nota_raca = enem_df2.groupby(\"TP_COR_RACA\").mean()[\"NOTA_MEDIA\"]\n",
    "nota_raca = nota_raca.rename(index = {0:\"Não declarou\", 1:\"Branca\", 2:\"Preta\",3:\"Parda\" , 4:\"Amarela\", 5:\"Indígena\"}).reset_index()\n",
    "nota_raca = nota_raca[1:].sort_values(by = \"NOTA_MEDIA\", ascending = False)\n",
    "sns.barplot(data = nota_raca,x = \"NOTA_MEDIA\" , y = \"TP_COR_RACA\", orient = \"h\");"
   ]
  },
  {
   "cell_type": "markdown",
   "metadata": {},
   "source": [
    "# Conclusões"
   ]
  },
  {
   "cell_type": "markdown",
   "metadata": {},
   "source": [
    "Depois de analisarmos os dados, podemos tirar algumas conclusões sobre os candidatos e/ou as notas do ENEM 2021:\n",
    "- Maior participação de candidatas do sexo feminino no exame.\n",
    "- Maior participação de candidatos do estado de SP.\n",
    "- Maioria dos candidatos tem entre 17 e 18 anos.\n",
    "- Maior relação de candidatos se autodeclarando da cor branca.\n",
    "- Candidatos de escola privada tiveram uma maior média de nota.\n",
    "- A nota média dos candidatos masculinos foram superiores.\n",
    "- O estado de Minas Gerais possui a maior média de notas do ENEM.\n",
    "- Podemos ver que os candidatos que se declararam da raça branca possuíram maior nota média."
   ]
  }
 ],
 "metadata": {
  "kernelspec": {
   "display_name": "Python 3.10.5 64-bit",
   "language": "python",
   "name": "python3"
  },
  "language_info": {
   "codemirror_mode": {
    "name": "ipython",
    "version": 3
   },
   "file_extension": ".py",
   "mimetype": "text/x-python",
   "name": "python",
   "nbconvert_exporter": "python",
   "pygments_lexer": "ipython3",
   "version": "3.10.5"
  },
  "orig_nbformat": 4,
  "vscode": {
   "interpreter": {
    "hash": "80da3e13c7adfd4ab3cb23b52123154a6113a8173e391d511351978ebe83fd6c"
   }
  }
 },
 "nbformat": 4,
 "nbformat_minor": 2
}
